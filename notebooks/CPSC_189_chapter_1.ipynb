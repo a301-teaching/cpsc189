{
 "metadata": {
  "name": "",
  "signature": "sha256:b44227b420d63b6deea39fd1663e33b23a52e1339ef8c12c84af5dbc7ed64519"
 },
 "nbformat": 3,
 "nbformat_minor": 0,
 "worksheets": [
  {
   "cells": [
    {
     "cell_type": "heading",
     "level": 2,
     "metadata": {},
     "source": [
      "Code explorer 1.1"
     ]
    },
    {
     "cell_type": "code",
     "collapsed": false,
     "input": [
      "def rect_area( width, height ):\n",
      "    \"\"\"\n",
      "    Real, Real -> Real\n",
      "     \n",
      "    Produces the area of rectangle of the given width and height\n",
      "     \n",
      "    >>> rect_area( 0, 0 )\n",
      "    0\n",
      "     \n",
      "    >>> rect_area( 10, 20 )\n",
      "    2000\n",
      "     \n",
      "    >>> act = rect_area( 10.5, 2.0 )\n",
      "    >>> exp = 21.0\n",
      "    >>> abs( act - exp ) < abs( exp ) * EPS\n",
      "    True\n",
      "    \"\"\"\n",
      "    return width * height\n",
      "     \n",
      " \n",
      "# Make sure doctests run when this code is run\n",
      " \n",
      "\n",
      "import doctest\n",
      "EPS = 1.0e-6\n",
      "#print( doctest.run_docstring_examples(rect_area,globals())  )\n",
      "doctest.testmod() \n"
     ],
     "language": "python",
     "metadata": {},
     "outputs": [
      {
       "output_type": "stream",
       "stream": "stdout",
       "text": [
        "**********************************************************************\n",
        "File \"__main__\", line 10, in __main__.rect_area\n",
        "Failed example:\n",
        "    rect_area( 10, 20 )\n",
        "Expected:\n",
        "    2000\n",
        "Got:\n",
        "    200\n",
        "**********************************************************************\n",
        "1 items had failures:\n",
        "   1 of   5 in __main__.rect_area\n",
        "***Test Failed*** 1 failures.\n"
       ]
      },
      {
       "metadata": {},
       "output_type": "pyout",
       "prompt_number": 3,
       "text": [
        "TestResults(failed=1, attempted=5)"
       ]
      }
     ],
     "prompt_number": 3
    },
    {
     "cell_type": "heading",
     "level": 2,
     "metadata": {},
     "source": [
      "Code explorer 1.2"
     ]
    },
    {
     "cell_type": "code",
     "collapsed": false,
     "input": [
      "#\n",
      "# Data Definitions\n",
      "#\n",
      " \n",
      "# Account is dict(name=str, balance=float)\n",
      "# interp. a bank account with a name and a balance\n",
      " \n",
      "A1 = dict(name='Joe', balance=212.23)\n",
      "A2 = dict(name='Chris', balance=-12.34)\n",
      "A3 = dict(name='Pat', balance=0.00)\n",
      " \n",
      "# def fn_for_acc(a):\n",
      "#     return ...a['name'] ...a['balance']\n",
      " \n",
      " \n",
      "#\n",
      "# Functions\n",
      "#\n",
      " \n",
      "def is_overdrawn(a):\n",
      "    \"\"\"\n",
      "    Account -> bool\n",
      "     \n",
      "    Determines if account a is overdrawn\n",
      "     \n",
      "    >>> is_overdrawn(A1)\n",
      "    False\n",
      "     \n",
      "    >>> is_overdrawn(A2)\n",
      "    True\n",
      "     \n",
      "    >>> is_overdrawn(A3)\n",
      "    False\n",
      "    \"\"\"\n",
      "    return a['balance'] < 0.0\n",
      " \n",
      " \n",
      "#\n",
      "# Make sure tests run when we run this program\n",
      "#\n",
      " \n",
      "\n",
      "\n",
      "#print( doctest.run_docstring_examples(is_overdrawn,globals()) )\n",
      "#print(help(doctest.testmod))\n",
      "globals()\n",
      "dir(is_overdrawn)\n",
      "is_overdrawn.func_doc\n"
     ],
     "language": "python",
     "metadata": {},
     "outputs": [
      {
       "metadata": {},
       "output_type": "pyout",
       "prompt_number": 8,
       "text": [
        "'\\n    Account -> bool\\n     \\n    Determines if account a is overdrawn\\n     \\n    >>> is_overdrawn(A1)\\n    False\\n     \\n    >>> is_overdrawn(A2)\\n    True\\n     \\n    >>> is_overdrawn(A3)\\n    False\\n    '"
       ]
      }
     ],
     "prompt_number": 8
    },
    {
     "cell_type": "code",
     "collapsed": false,
     "input": [
      "def rect_area( width, height ):\n",
      "    \"\"\"\n",
      "    Real, Real -> Real\n",
      "     \n",
      "    Produces the area of rectangle of the given width and height\n",
      "     \n",
      "    >>> rect_area( 0, 0 )\n",
      "    0\n",
      "     \n",
      "    >>> rect_area( 10, 20 )\n",
      "    2000\n",
      "     \n",
      "    >>> act = rect_area( 10.5, 2.0 )\n",
      "    >>> exp = 21.0\n",
      "    >>> abs( act - exp ) < abs( exp ) * EPS\n",
      "    True\n",
      "    \"\"\"\n",
      "    return width * height\n",
      "     \n",
      " \n",
      "# Make sure doctests run when this code is run\n",
      " \n",
      "print( doctest.run_docstring_examples(rect_area,globals()) )\n"
     ],
     "language": "python",
     "metadata": {},
     "outputs": [
      {
       "output_type": "stream",
       "stream": "stdout",
       "text": [
        "**********************************************************************\n",
        "File \"__main__\", line 10, in NoName\n",
        "Failed example:\n",
        "    rect_area( 10, 20 )\n",
        "Expected:\n",
        "    2000\n",
        "Got:\n",
        "    200\n",
        "None\n"
       ]
      }
     ],
     "prompt_number": 11
    }
   ],
   "metadata": {}
  }
 ]
}
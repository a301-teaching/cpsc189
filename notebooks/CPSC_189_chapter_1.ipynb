{
 "metadata": {
  "name": "",
  "signature": "sha256:8132265ea96f8841aa685dde54f77a59ae7e1da04e8b98d4518edd3e6b1bd47d"
 },
 "nbformat": 3,
 "nbformat_minor": 0,
 "worksheets": [
  {
   "cells": [
    {
     "cell_type": "heading",
     "level": 2,
     "metadata": {},
     "source": [
      "Code explorer 1.1"
     ]
    },
    {
     "cell_type": "code",
     "collapsed": false,
     "input": [
      "def rect_area( width, height ):\n",
      "    \"\"\"\n",
      "    Real, Real -> Real\n",
      "     \n",
      "    Produces the area of rectangle of the given width and height\n",
      "     \n",
      "    >>> rect_area( 0, 0 )\n",
      "    0\n",
      "     \n",
      "    >>> rect_area( 10, 20 )\n",
      "    200\n",
      "     \n",
      "    >>> act = rect_area( 10.5, 2.0 )\n",
      "    >>> exp = 21.0\n",
      "    >>> abs( act - exp ) < abs( exp ) * EPS\n",
      "    True\n",
      "    \"\"\"\n",
      "    return width * height\n",
      "     \n",
      " \n",
      "# Make sure doctests run when this code is run\n",
      " \n",
      "\n",
      "import doctest\n",
      "EPS = 1.0e-6\n",
      "print( doctest.run_docstring_examples(rect_area,globals())  )\n"
     ],
     "language": "python",
     "metadata": {},
     "outputs": [
      {
       "output_type": "stream",
       "stream": "stdout",
       "text": [
        "None\n"
       ]
      }
     ],
     "prompt_number": 13
    },
    {
     "cell_type": "heading",
     "level": 2,
     "metadata": {},
     "source": [
      "Code explorer 1.2"
     ]
    },
    {
     "cell_type": "code",
     "collapsed": false,
     "input": [
      "#\n",
      "# Data Definitions\n",
      "#\n",
      " \n",
      "# Account is dict(name=str, balance=float)\n",
      "# interp. a bank account with a name and a balance\n",
      " \n",
      "A1 = dict(name='Joe', balance=212.23)\n",
      "A2 = dict(name='Chris', balance=-12.34)\n",
      "A3 = dict(name='Pat', balance=0.00)\n",
      " \n",
      "# def fn_for_acc(a):\n",
      "#     return ...a['name'] ...a['balance']\n",
      " \n",
      " \n",
      "#\n",
      "# Functions\n",
      "#\n",
      " \n",
      "def is_overdrawn(a):\n",
      "    \"\"\"\n",
      "    Account -> bool\n",
      "     \n",
      "    Determines if account a is overdrawn\n",
      "     \n",
      "    >>> is_overdrawn(A1)\n",
      "    False\n",
      "     \n",
      "    >>> is_overdrawn(A2)\n",
      "    True\n",
      "     \n",
      "    >>> is_overdrawn(A3)\n",
      "    False\n",
      "    \"\"\"\n",
      "    return a['balance'] < 0.0\n",
      " \n",
      " \n",
      "#\n",
      "# Make sure tests run when we run this program\n",
      "#\n",
      " \n",
      "\n",
      "\n",
      "print( doctest.run_docstring_examples(is_overdrawn,globals()) )\n"
     ],
     "language": "python",
     "metadata": {},
     "outputs": [
      {
       "output_type": "stream",
       "stream": "stdout",
       "text": [
        "None\n"
       ]
      }
     ],
     "prompt_number": 14
    },
    {
     "cell_type": "code",
     "collapsed": false,
     "input": [
      "def rect_area( width, height ):\n",
      "    \"\"\"\n",
      "    Real, Real -> Real\n",
      "     \n",
      "    Produces the area of rectangle of the given width and height\n",
      "     \n",
      "    >>> rect_area( 0, 0 )\n",
      "    0\n",
      "     \n",
      "    >>> rect_area( 10, 20 )\n",
      "    2000\n",
      "     \n",
      "    >>> act = rect_area( 10.5, 2.0 )\n",
      "    >>> exp = 21.0\n",
      "    >>> abs( act - exp ) < abs( exp ) * EPS\n",
      "    True\n",
      "    \"\"\"\n",
      "    return width * height\n",
      "     \n",
      " \n",
      "# Make sure doctests run when this code is run\n",
      " \n",
      "print( doctest.run_docstring_examples(rect_area,globals()) )\n"
     ],
     "language": "python",
     "metadata": {},
     "outputs": [
      {
       "output_type": "stream",
       "stream": "stdout",
       "text": [
        "**********************************************************************\n",
        "File \"__main__\", line 10, in NoName\n",
        "Failed example:\n",
        "    rect_area( 10, 20 )\n",
        "Expected:\n",
        "    2000\n",
        "Got:\n",
        "    200\n",
        "None\n"
       ]
      }
     ],
     "prompt_number": 11
    }
   ],
   "metadata": {}
  }
 ]
}